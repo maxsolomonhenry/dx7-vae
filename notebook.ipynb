{
 "cells": [
  {
   "cell_type": "code",
   "execution_count": 1,
   "metadata": {},
   "outputs": [],
   "source": [
    "%load_ext autoreload\n",
    "%autoreload 2\n",
    "\n",
    "import sys\n",
    "sys.path.append('./src')\n",
    "\n",
    "from chatgpt_util_imports import generate_dataset\n",
    "from data_loader import PatchDataset\n",
    "from models import VAE\n",
    "from train import load_checkpoint, print_loss_metrics, save_checkpoint, train_one_epoch, validate\n",
    "from util import get_date_and_time\n",
    "\n",
    "import numpy as np\n",
    "import os\n",
    "import pandas as pd\n",
    "import torch\n",
    "from torch.utils.data.dataloader import DataLoader\n",
    "from torch.utils.data import random_split"
   ]
  },
  {
   "cell_type": "code",
   "execution_count": 2,
   "metadata": {},
   "outputs": [],
   "source": [
    "device = torch.device('mps' if torch.backends.mps.is_available() else 'cpu')"
   ]
  },
  {
   "cell_type": "code",
   "execution_count": 3,
   "metadata": {},
   "outputs": [
    {
     "name": "stdout",
     "output_type": "stream",
     "text": [
      "Num patches: 31380\n",
      "Num features: 146\n"
     ]
    }
   ],
   "source": [
    "# Load +31k patches as compiled by `bwhitman` for `learnfm`.\n",
    "fpath = 'data/compact.bin'\n",
    "\n",
    "df = generate_dataset(fpath)\n",
    "df = pd.DataFrame(df)\n",
    "\n",
    "print(f\"Num patches: {len(df)}\")\n",
    "print(f\"Num features: {len(df.keys())}\")\n",
    "\n",
    "# df.hist(figsize=(50, 50))\n",
    "# plt.show()"
   ]
  },
  {
   "cell_type": "code",
   "execution_count": 4,
   "metadata": {},
   "outputs": [],
   "source": [
    "p_train = 0.8\n",
    "batch_size = 32\n",
    "\n",
    "dataset = PatchDataset(df)\n",
    "\n",
    "n_train = int(p_train * len(dataset))\n",
    "n_val = len(dataset) - n_train\n",
    "\n",
    "train_dataset, val_dataset = random_split(dataset, [n_train, n_val])\n",
    "train_loader = DataLoader(train_dataset, batch_size=batch_size, shuffle=True)\n",
    "val_loader = DataLoader(val_dataset, batch_size=batch_size)"
   ]
  },
  {
   "cell_type": "code",
   "execution_count": 5,
   "metadata": {},
   "outputs": [],
   "source": [
    "n_features = len(dataset._parameter_names)\n",
    "n_hidden = 64\n",
    "n_latent = 16\n",
    "\n",
    "model = VAE(n_features, n_hidden, n_latent)\n",
    "model = model.to(device)\n",
    "\n",
    "optimizer = torch.optim.Adam(model.parameters(), lr=1e-6)"
   ]
  },
  {
   "cell_type": "code",
   "execution_count": 6,
   "metadata": {},
   "outputs": [],
   "source": [
    "# Training.\n",
    "n_epochs = 0\n",
    "checkpoint_dir = 'checkpoints/'\n",
    "save_interval_epochs = 10\n",
    "\n",
    "best_loss = np.inf\n",
    "for i in range(n_epochs):\n",
    "    train_loss = train_one_epoch(model, train_loader, optimizer, device)\n",
    "    val_loss = validate(model, val_loader, device)\n",
    "\n",
    "    print(f\"Epoch {i}\")\n",
    "    print_loss_metrics(train_loss, val_loss)\n",
    "\n",
    "    if i % save_interval_epochs != 0:\n",
    "        continue\n",
    "\n",
    "    if val_loss['loss'] < best_loss:\n",
    "        fname = f\"chkpnt_{get_date_and_time()}_epoch{i}.pt\"\n",
    "        fpath = os.path.join(checkpoint_dir, fname)\n",
    "\n",
    "        save_checkpoint(model, optimizer, fpath)\n",
    "\n",
    "        print(\"=\" * 80)\n",
    "        print(f\"Saved checkpoint at: {fpath}\")\n",
    "        print(\"=\" * 80)\n",
    "\n",
    "        best_loss = val_loss['loss']"
   ]
  },
  {
   "cell_type": "code",
   "execution_count": 7,
   "metadata": {},
   "outputs": [],
   "source": [
    "fpath = 'checkpoints/chkpnt_20231001_235220_epoch990.pt'\n",
    "load_checkpoint(fpath, model, optimizer)\n",
    "\n",
    "restore = dataset.get_restorer()\n",
    "\n",
    "model.eval()\n",
    "with torch.no_grad():\n",
    "    for x in dataset:\n",
    "        x = x.to(device)\n",
    "        y, mu, log_var = model(x)\n",
    "\n",
    "        x = x.to('cpu')\n",
    "        x = restore(x)\n",
    "\n",
    "        y = y.to('cpu')\n",
    "        y = restore(y)\n",
    "\n",
    "        break"
   ]
  },
  {
   "cell_type": "code",
   "execution_count": 8,
   "metadata": {},
   "outputs": [],
   "source": [
    "from chatgpt_util_imports import pack_patch, generate_sysex_with_corrected_checksum, write_sysex_to_file\n",
    "\n",
    "packed_patches = bytearray()\n",
    "\n",
    "for _ in range(16):\n",
    "    packed_patches += pack_patch(x)\n",
    "\n",
    "for _ in range(16):\n",
    "    packed_patches += pack_patch(y)\n",
    "\n",
    "# Generate the SysEx message for the selected patches\n",
    "sysex_data_32_patches = generate_sysex_with_corrected_checksum(packed_patches)\n",
    "\n",
    "# Write the SysEx message to a file\n",
    "write_sysex_to_file(sysex_data_32_patches, \"test.syx\")\n"
   ]
  }
 ],
 "metadata": {
  "kernelspec": {
   "display_name": "base",
   "language": "python",
   "name": "base"
  },
  "language_info": {
   "codemirror_mode": {
    "name": "ipython",
    "version": 3
   },
   "file_extension": ".py",
   "mimetype": "text/x-python",
   "name": "python",
   "nbconvert_exporter": "python",
   "pygments_lexer": "ipython3",
   "version": "3.9.17"
  },
  "orig_nbformat": 4
 },
 "nbformat": 4,
 "nbformat_minor": 2
}

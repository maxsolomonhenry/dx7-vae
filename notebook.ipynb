{
 "cells": [
  {
   "cell_type": "code",
   "execution_count": 1,
   "metadata": {},
   "outputs": [],
   "source": [
    "import sys\n",
    "sys.path.append('./src')\n",
    "\n",
    "import pandas as pd\n",
    "from chatgpt_util_imports import generate_dataset"
   ]
  },
  {
   "cell_type": "code",
   "execution_count": 12,
   "metadata": {},
   "outputs": [
    {
     "name": "stdout",
     "output_type": "stream",
     "text": [
      "Num patches: 31380\n",
      "dict_keys(['name', 'algorithm', 'feedback', 'operators'])\n",
      "dict_keys(['eg_rate_level', 'left_curve', 'right_curve', 'detune', 'rate_scaling', 'kvs', 'ams', 'output_level', 'frequency_mode', 'frequency_coarse', 'frequency_fine'])\n"
     ]
    }
   ],
   "source": [
    "# Load +31k patches as compiled by `bwhitman` for `learnfm`.\n",
    "fpath = 'data/compact.bin'\n",
    "\n",
    "dataset = generate_dataset(fpath)\n",
    "\n",
    "print(f\"Num patches: {len(dataset)}\")\n",
    "print(dataset[0].keys())\n",
    "print(dataset[0]['operators'][0].keys())"
   ]
  },
  {
   "cell_type": "code",
   "execution_count": 17,
   "metadata": {},
   "outputs": [],
   "source": [
    "df = []\n",
    "\n",
    "for patch in dataset:\n",
    "    datum = {}\n",
    "\n",
    "    datum['name'] = patch['name']\n",
    "    datum['algorith'] = patch['algorithm']\n",
    "    datum['feedback'] = patch['feedback']\n",
    "\n",
    "    for n, operator in enumerate(patch['operators']):\n",
    "        for key in operator.keys():\n",
    "            fieldname = f\"op{n}_{key}\"\n",
    "            datum[fieldname] = operator[key]\n",
    "\n",
    "    df.append(datum)\n",
    "\n",
    "df = pd.DataFrame(df)\n"
   ]
  },
  {
   "cell_type": "code",
   "execution_count": 24,
   "metadata": {},
   "outputs": [
    {
     "data": {
      "text/plain": [
       "{'name': 'creepjaz',\n",
       " 'algorithm': 5,\n",
       " 'feedback': 0,\n",
       " 'operators': [{'eg_rate_level': [90, 35, 20, 54, 99, 80, 0, 0, 38, 0, 99],\n",
       "   'left_curve': 0,\n",
       "   'right_curve': 3,\n",
       "   'detune': 3,\n",
       "   'rate_scaling': 7,\n",
       "   'kvs': 0,\n",
       "   'ams': 3,\n",
       "   'output_level': 94,\n",
       "   'frequency_mode': 0,\n",
       "   'frequency_coarse': 1,\n",
       "   'frequency_fine': 43},\n",
       "  {'eg_rate_level': [90, 35, 20, 54, 99, 80, 0, 0, 0, 0, 99],\n",
       "   'left_curve': 2,\n",
       "   'right_curve': 3,\n",
       "   'detune': 2,\n",
       "   'rate_scaling': 7,\n",
       "   'kvs': 0,\n",
       "   'ams': 2,\n",
       "   'output_level': 86,\n",
       "   'frequency_mode': 0,\n",
       "   'frequency_coarse': 1,\n",
       "   'frequency_fine': 43},\n",
       "  {'eg_rate_level': [90, 73, 0, 54, 99, 80, 0, 0, 30, 0, 98],\n",
       "   'left_curve': 0,\n",
       "   'right_curve': 2,\n",
       "   'detune': 1,\n",
       "   'rate_scaling': 7,\n",
       "   'kvs': 3,\n",
       "   'ams': 4,\n",
       "   'output_level': 76,\n",
       "   'frequency_mode': 0,\n",
       "   'frequency_coarse': 15,\n",
       "   'frequency_fine': 0},\n",
       "  {'eg_rate_level': [90, 30, 0, 54, 99, 80, 0, 0, 0, 0, 0],\n",
       "   'left_curve': 2,\n",
       "   'right_curve': 0,\n",
       "   'detune': 1,\n",
       "   'rate_scaling': 7,\n",
       "   'kvs': 0,\n",
       "   'ams': 4,\n",
       "   'output_level': 97,\n",
       "   'frequency_mode': 0,\n",
       "   'frequency_coarse': 0,\n",
       "   'frequency_fine': 91},\n",
       "  {'eg_rate_level': [90, 29, 0, 54, 99, 86, 0, 0, 0, 0, 0],\n",
       "   'left_curve': 3,\n",
       "   'right_curve': 0,\n",
       "   'detune': 1,\n",
       "   'rate_scaling': 7,\n",
       "   'kvs': 0,\n",
       "   'ams': 4,\n",
       "   'output_level': 83,\n",
       "   'frequency_mode': 0,\n",
       "   'frequency_coarse': 0,\n",
       "   'frequency_fine': 90},\n",
       "  {'eg_rate_level': [90, 35, 0, 54, 99, 80, 57, 0, 0, 0, 0],\n",
       "   'left_curve': 2,\n",
       "   'right_curve': 0,\n",
       "   'detune': 0,\n",
       "   'rate_scaling': 7,\n",
       "   'kvs': 0,\n",
       "   'ams': 4,\n",
       "   'output_level': 99,\n",
       "   'frequency_mode': 0,\n",
       "   'frequency_coarse': 0,\n",
       "   'frequency_fine': 91}]}"
      ]
     },
     "execution_count": 24,
     "metadata": {},
     "output_type": "execute_result"
    }
   ],
   "source": [
    "dataset[0]"
   ]
  },
  {
   "cell_type": "code",
   "execution_count": null,
   "metadata": {},
   "outputs": [],
   "source": []
  }
 ],
 "metadata": {
  "kernelspec": {
   "display_name": "base",
   "language": "python",
   "name": "base"
  },
  "language_info": {
   "codemirror_mode": {
    "name": "ipython",
    "version": 3
   },
   "file_extension": ".py",
   "mimetype": "text/x-python",
   "name": "python",
   "nbconvert_exporter": "python",
   "pygments_lexer": "ipython3",
   "version": "3.9.17"
  },
  "orig_nbformat": 4
 },
 "nbformat": 4,
 "nbformat_minor": 2
}

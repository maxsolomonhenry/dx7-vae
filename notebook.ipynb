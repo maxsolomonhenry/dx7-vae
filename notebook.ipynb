{
 "cells": [
  {
   "cell_type": "code",
   "execution_count": 1,
   "metadata": {},
   "outputs": [],
   "source": [
    "%load_ext autoreload\n",
    "%autoreload 2\n",
    "\n",
    "import sys\n",
    "sys.path.append('./src')\n",
    "\n",
    "from chatgpt_util_imports import generate_dataset\n",
    "from data_loader import PatchDataset\n",
    "from models import VAE, AE\n",
    "from train import load_checkpoint, print_loss_metrics, save_checkpoint, train_one_epoch, validate\n",
    "from util import get_date_and_time\n",
    "\n",
    "import matplotlib.pyplot as plt\n",
    "import numpy as np\n",
    "import os\n",
    "import pandas as pd\n",
    "import torch\n",
    "from torch.utils.data.dataloader import DataLoader\n",
    "from torch.utils.data import random_split"
   ]
  },
  {
   "cell_type": "code",
   "execution_count": 2,
   "metadata": {},
   "outputs": [],
   "source": [
    "device = torch.device('mps' if torch.backends.mps.is_available() else 'cpu')"
   ]
  },
  {
   "cell_type": "code",
   "execution_count": 3,
   "metadata": {},
   "outputs": [
    {
     "name": "stdout",
     "output_type": "stream",
     "text": [
      "Num patches: 31380\n",
      "Num features: 146\n"
     ]
    }
   ],
   "source": [
    "# Load +31k patches as compiled by `bwhitman` for `learnfm`.\n",
    "fpath = 'data/compact.bin'\n",
    "\n",
    "df = generate_dataset(fpath)\n",
    "df = pd.DataFrame(df)\n",
    "\n",
    "print(f\"Num patches: {len(df)}\")\n",
    "print(f\"Num features: {len(df.keys())}\")\n",
    "\n",
    "# df.hist(figsize=(50, 50))\n",
    "# plt.show()"
   ]
  },
  {
   "cell_type": "code",
   "execution_count": 4,
   "metadata": {},
   "outputs": [],
   "source": [
    "p_train = 0.8\n",
    "batch_size = 128\n",
    "\n",
    "dataset = PatchDataset(df)\n",
    "\n",
    "n_train = int(p_train * len(dataset))\n",
    "n_val = len(dataset) - n_train\n",
    "\n",
    "train_dataset, val_dataset = random_split(dataset, [n_train, n_val])\n",
    "train_loader = DataLoader(train_dataset, batch_size=batch_size, shuffle=True)\n",
    "val_loader = DataLoader(val_dataset, batch_size=batch_size)"
   ]
  },
  {
   "cell_type": "code",
   "execution_count": 5,
   "metadata": {},
   "outputs": [],
   "source": [
    "dimensions = [128, 64, 32]\n",
    "model_type = 'ae'\n",
    "\n",
    "n_features = len(dataset._parameter_names)\n",
    "\n",
    "if model_type == 'ae':\n",
    "    model = AE(n_features, *dimensions)\n",
    "elif model_type == 'vae':\n",
    "    model = VAE(n_features, *dimensions)\n",
    "\n",
    "model = model.to(device)"
   ]
  },
  {
   "cell_type": "code",
   "execution_count": 6,
   "metadata": {},
   "outputs": [
    {
     "name": "stdout",
     "output_type": "stream",
     "text": [
      "Epoch 0\n",
      "Trn: 0.00579839\tVal: 0.00484336\n",
      "\n"
     ]
    },
    {
     "data": {
      "image/png": "[encoded data removed]",
      "text/plain": [
       "<Figure size 640x480 with 1 Axes>"
      ]
     },
     "metadata": {},
     "output_type": "display_data"
    },
    {
     "name": "stdout",
     "output_type": "stream",
     "text": [
      "================================================================================\n",
      "Saved checkpoint at: checkpoints/chkpnt_20231018_062707_epoch0.pt\n",
      "================================================================================\n",
      "Epoch 1\n",
      "Trn: 0.00429350\tVal: 0.00414492\n",
      "\n",
      "Epoch 2\n",
      "Trn: 0.00381595\tVal: 0.00384026\n",
      "\n",
      "Epoch 3\n",
      "Trn: 0.00356072\tVal: 0.00360939\n",
      "\n",
      "Epoch 4\n",
      "Trn: 0.00340022\tVal: 0.00349139\n",
      "\n",
      "Epoch 5\n",
      "Trn: 0.00328960\tVal: 0.00339126\n",
      "\n",
      "Epoch 6\n",
      "Trn: 0.00319355\tVal: 0.00329406\n",
      "\n",
      "Epoch 7\n",
      "Trn: 0.00310471\tVal: 0.00322212\n",
      "\n",
      "Epoch 8\n",
      "Trn: 0.00302223\tVal: 0.00313481\n",
      "\n",
      "Epoch 9\n",
      "Trn: 0.00295793\tVal: 0.00307052\n",
      "\n",
      "Epoch 10\n",
      "Trn: 0.00290504\tVal: 0.00302551\n",
      "\n",
      "================================================================================\n",
      "Saved checkpoint at: checkpoints/chkpnt_20231018_062721_epoch10.pt\n",
      "================================================================================\n",
      "Epoch 11\n",
      "Trn: 0.00285909\tVal: 0.00299910\n",
      "\n",
      "Epoch 12\n",
      "Trn: 0.00282230\tVal: 0.00296159\n",
      "\n",
      "Epoch 13\n",
      "Trn: 0.00278357\tVal: 0.00291895\n",
      "\n",
      "Epoch 14\n",
      "Trn: 0.00275493\tVal: 0.00289757\n",
      "\n"
     ]
    }
   ],
   "source": [
    "# Training.\n",
    "n_epochs = 500\n",
    "lr = 1e-3\n",
    "\n",
    "checkpoint_dir = 'checkpoints/'\n",
    "save_interval_epochs = 10\n",
    "plot_interval_epochs = 25\n",
    "\n",
    "optimizer = torch.optim.Adam(model.parameters(), lr=lr)\n",
    "scheduler = torch.optim.lr_scheduler.ReduceLROnPlateau(optimizer, 'min', verbose=True)\n",
    "\n",
    "best_loss = np.inf\n",
    "train_loss = []\n",
    "val_loss = []\n",
    "for i in range(n_epochs):\n",
    "    epoch_train_loss = train_one_epoch(model, train_loader, optimizer, device, model_type)\n",
    "    epoch_val_loss = validate(model, val_loader, device, model_type)\n",
    "    scheduler.step(epoch_val_loss)\n",
    "\n",
    "    train_loss.append(epoch_train_loss)\n",
    "    val_loss.append(epoch_val_loss)\n",
    "\n",
    "    print(f\"Epoch {i}\")\n",
    "    print_loss_metrics(epoch_train_loss, epoch_val_loss)\n",
    "\n",
    "    if i % plot_interval_epochs == 0:\n",
    "        plt.plot(train_loss, label=\"Train\")\n",
    "        plt.plot(val_loss, label=\"Val\")\n",
    "        plt.grid(True, which=\"both\", ls=\"--\", c='0.7')\n",
    "        plt.legend()\n",
    "        plt.show()\n",
    "\n",
    "\n",
    "    if i % save_interval_epochs != 0:\n",
    "        continue\n",
    "\n",
    "    if epoch_val_loss < best_loss:\n",
    "        fname = f\"chkpnt_{get_date_and_time()}_epoch{i}.pt\"\n",
    "        fpath = os.path.join(checkpoint_dir, fname)\n",
    "\n",
    "        save_checkpoint(model, optimizer, fpath)\n",
    "\n",
    "        print(\"=\" * 80)\n",
    "        print(f\"Saved checkpoint at: {fpath}\")\n",
    "        print(\"=\" * 80)\n",
    "\n",
    "        best_loss = epoch_val_loss"
   ]
  },
  {
   "cell_type": "code",
   "execution_count": null,
   "metadata": {},
   "outputs": [],
   "source": [
    "fpath = 'checkpoints/chkpnt_20231018_061656_epoch440.pt'\n",
    "load_checkpoint(fpath, model, optimizer)\n",
    "model.eval()\n",
    "\n",
    "restore = dataset.get_restorer()\n",
    "\n",
    "# Sample first 16 patches and their reconstructions.\n",
    "patches = []\n",
    "with torch.no_grad():\n",
    "    for i, x in enumerate(dataset):\n",
    "        x = x.to(device)\n",
    "\n",
    "        if model_type == 'vae':\n",
    "            y, mu, log_var = model(x)\n",
    "        elif model_type == 'ae':\n",
    "            y, z = model(x)\n",
    "\n",
    "        x = x.to('cpu')\n",
    "        y = y.to('cpu')\n",
    "\n",
    "        x = restore(x)\n",
    "        y = restore(y)\n",
    "\n",
    "        x['VOICE NAME'] = f\"x{i}\"\n",
    "        y['VOICE NAME'] = f\"y{i}\"\n",
    "\n",
    "        patches.append(x)\n",
    "        patches.append(y)\n",
    "\n",
    "        if i >= 15:\n",
    "            break"
   ]
  },
  {
   "cell_type": "code",
   "execution_count": null,
   "metadata": {},
   "outputs": [],
   "source": [
    "from chatgpt_util_imports import make_cartridge\n",
    "\n",
    "fpath = \"data/test.syx\"\n",
    "\n",
    "cartridge_data = make_cartridge(patches)\n",
    "with open(fpath, 'wb') as file:\n",
    "    file.write(cartridge_data)"
   ]
  },
  {
   "cell_type": "code",
   "execution_count": null,
   "metadata": {},
   "outputs": [],
   "source": []
  }
 ],
 "metadata": {
  "kernelspec": {
   "display_name": "base",
   "language": "python",
   "name": "base"
  },
  "language_info": {
   "codemirror_mode": {
    "name": "ipython",
    "version": 3
   },
   "file_extension": ".py",
   "mimetype": "text/x-python",
   "name": "python",
   "nbconvert_exporter": "python",
   "pygments_lexer": "ipython3",
   "version": "3.9.17"
  },
  "orig_nbformat": 4
 },
 "nbformat": 4,
 "nbformat_minor": 2
}
